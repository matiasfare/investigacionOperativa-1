{
 "cells": [
  {
   "cell_type": "code",
   "execution_count": null,
   "metadata": {},
   "outputs": [],
   "source": [
    "#Investigacion Operativa-Facultad Politecnica.UNA \n",
    "#Carrera: LCik\n",
    "#Prof. Norma B. Silguero B."
   ]
  },
  {
   "cell_type": "code",
   "execution_count": null,
   "metadata": {},
   "outputs": [],
   "source": [
    "# DUALIDAD"
   ]
  },
  {
   "cell_type": "markdown",
   "metadata": {},
   "source": [
    "#Ejemplo de interpretación del modelo primal como dual \n",
    "\n",
    "La compañía Reddy Mikks produce pinturas para interiores y exteriores, M1 y M2. La tabla siguiente \n",
    "proporciona los datos básicos del problema.\n",
    "<img src=\"Reddy.png\">\n",
    " \n",
    "Una encuesta de mercado indica que la demanda diaria de pintura para interiores no puede ser mayor que 1 tonelada más que la de pintura para exteriores. También, que la demanda máxima diaria de pintura para interiores es de 2 toneladas. \n",
    "\n",
    "a)Reddy Mikks desea determinar la mezcla optima (la mejor) de productos para exteriores y para interiores que maximice la utilidad diaria total.\n",
    "\n",
    "b)¿Cual es el problema dual asociado? ¿Que situación podría estar optimizando?\n"
   ]
  },
  {
   "cell_type": "markdown",
   "metadata": {},
   "source": [
    "# FORMULACIÓN\n",
    "\n",
    "xj= Toneladas producidas diariamente, de pintura para j= 1:exteriores, 2:interiores\n",
    "\n",
    "Max Z = 5X1 + 4X2\n",
    "\n",
    "Sujeto  : \n",
    "\n",
    "6X1 + 4X2 ≤ 24\n",
    "\n",
    "X1 + 2X2 ≤ 6 \n",
    "\n",
    "-X1 + 4X2 ≤  1\n",
    "      \n",
    "      X2 ≤ 2\n",
    "                      \n",
    "      Xj ≥ 0\n",
    "\n"
   ]
  },
  {
   "cell_type": "markdown",
   "metadata": {},
   "source": [
    "# \n",
    "a)Reddy Mikks desea determinar la mezcla optima (la mejor) de productos para exteriores y para \n",
    "interiores que maximice la utilidad diaria total."
   ]
  },
  {
   "cell_type": "code",
   "execution_count": 2,
   "metadata": {},
   "outputs": [
    {
     "name": "stdout",
     "output_type": "stream",
     "text": [
      "Max 5 x1 + 4 x2\n",
      "Subject to\n",
      " x1 ≥ 0.0\n",
      " x2 ≥ 0.0\n",
      " 6 x1 + 4 x2 ≤ 24.0\n",
      " x1 + 2 x2 ≤ 6.0\n",
      " -x1 + x2 ≤ 1.0\n",
      " x2 ≤ 2.0\n",
      "Maxima utilidad diaria total =21.0\n",
      "Toneladas producidas diariamente, de pintura para exteriores =2.9999999999999996\n",
      "Toneladas producidas diariamente, de pintura para interiores =1.5000000000000002\n",
      "Coin0506I Presolve 3 (-1) rows, 2 (0) columns and 6 (-1) elements\n",
      "Clp0006I 0  Obj -0 Dual inf 8.999998 (2)\n",
      "Clp0006I 2  Obj 21\n",
      "Clp0000I Optimal - objective value 21\n",
      "Coin0511I After Postsolve, objective 21, infeasibilities - dual 0 (0), primal 0 (0)\n",
      "Clp0032I Optimal objective 21 - 2 iterations time 0.002, Presolve 0.00\n"
     ]
    }
   ],
   "source": [
    "using JuMP, Clp\n",
    "\n",
    "m = Model(with_optimizer(Clp.Optimizer))\n",
    "\n",
    "@variables(m, begin \n",
    "        0 <= x1             # Toneladas producidas diariamente, de pintura para exteriores\n",
    "        0 <= x2             # Toneladas producidas diariamente, de pintura para interiores\n",
    "end)  \n",
    "\n",
    "@objective(m, Max, 5*x1 + 4*x2)     # maximice la utilidad diaria total\n",
    "\n",
    "@constraint(m, M1, 6*x1 + 4*x2 <= 24)    #Recurso materia prima M1     \n",
    "@constraint(m, M2, 1*x1 + 2*x2 <= 6)     #Recurso materia prima M2      \n",
    "@constraint(m, D1, -1*x1 + 1*x2 <= 1)    #Recurso demanda diaria\n",
    "@constraint(m, D2, x2 <= 2) \n",
    "print(m)\n",
    "\n",
    "JuMP.optimize!(m)\n",
    "\n",
    "obj_value=JuMP.objective_value(m)\n",
    "x1_exterior=JuMP.value(x1)\n",
    "x2_interior=JuMP.value(x2)\n",
    "\n",
    "\n",
    "println(\"Maxima utilidad diaria total =\", obj_value)\n",
    "println(\"Toneladas producidas diariamente, de pintura para exteriores =\", x1_exterior)\n",
    "println(\"Toneladas producidas diariamente, de pintura para interiores =\", x2_interior)\n"
   ]
  },
  {
   "cell_type": "code",
   "execution_count": 3,
   "metadata": {},
   "outputs": [],
   "source": [
    "#b1)¿Cual es el problema dual asociado? ¿Que situación podría estar optimizando?"
   ]
  },
  {
   "cell_type": "code",
   "execution_count": 1,
   "metadata": {},
   "outputs": [
    {
     "ename": "LoadError",
     "evalue": "syntax: extra token \"W\" after end of expression",
     "output_type": "error",
     "traceback": [
      "syntax: extra token \"W\" after end of expression",
      ""
     ]
    }
   ],
   "source": [
    "#MODELO DUAL\n",
    "Min W = 24y1 +6y2+y3+2y4\n",
    "\n",
    "Sujeto a :  \n",
    "\n",
    "6y1 +y2 - y3    ≥ 5\n",
    "\n",
    "4y1 +2y2+y3+y4 ≥ 4\n",
    "                                     \n",
    "yi ≥ 0  i=1,2,3,4\n",
    "                 "
   ]
  },
  {
   "cell_type": "code",
   "execution_count": 6,
   "metadata": {},
   "outputs": [
    {
     "name": "stdout",
     "output_type": "stream",
     "text": [
      "Min 24 y[1] + 6 y[2] + y[3] + 2 y[4]\n",
      "Subject to\n",
      " y[1] ≥ 0.0\n",
      " y[2] ≥ 0.0\n",
      " y[3] ≥ 0.0\n",
      " y[4] ≥ 0.0\n",
      " 6 y[1] + y[2] - y[3] ≥ 5.0\n",
      " 4 y[1] + 2 y[2] + y[3] + y[4] ≥ 4.0\n",
      "Valor func objetivo, Ganancia=20.999999999999996\n",
      " y[1] = 0.7499999999999998\n",
      " y[2] = 0.5000000000000004\n",
      " y[3] = 0.0\n",
      " y[4] = 0.0\n",
      "\n",
      "Coin0506I Presolve 2 (0) rows, 4 (0) columns and 7 (0) elements\n",
      "Clp0006I 0  Obj 0 Primal inf 1.8333331 (2)\n",
      "Clp0006I 4  Obj 21\n",
      "Clp0000I Optimal - objective value 21\n",
      "Clp0032I Optimal objective 21 - 4 iterations time 0.002\n"
     ]
    }
   ],
   "source": [
    "m2 = Model(with_optimizer(Clp.Optimizer))\n",
    "    @variable(m2, y[1:4] >= 0)\n",
    "\n",
    "    @objective(m2, Min, 24*y[1] + 6*y[2] + 1*y[3] + 2*y[4])\n",
    "    \n",
    "    @constraint(m2, 6*y[1] + y[2] - y[3] >= 5)\n",
    "    @constraint(m2, 4*y[1] + 2*y[2] + y[3] + y[4]>= 4)\n",
    "    \n",
    "\n",
    "    \n",
    "print(m2)\n",
    "JuMP.optimize!(m2)\n",
    "obj_value_m2=JuMP.objective_value(m2)\n",
    "println(\"Valor func objetivo, Ganancia=\", obj_value_m2)\n",
    "\n",
    "for i in 1:4\n",
    "    println(\" y[$(i)] = $(JuMP.value(y[i]))\")\n",
    "end\n",
    "println(\"\")"
   ]
  },
  {
   "cell_type": "code",
   "execution_count": null,
   "metadata": {},
   "outputs": [],
   "source": []
  }
 ],
 "metadata": {
  "kernelspec": {
   "display_name": "Julia 1.1.1",
   "language": "julia",
   "name": "julia-1.1"
  },
  "language_info": {
   "file_extension": ".jl",
   "mimetype": "application/julia",
   "name": "julia",
   "version": "1.1.1"
  }
 },
 "nbformat": 4,
 "nbformat_minor": 2
}
