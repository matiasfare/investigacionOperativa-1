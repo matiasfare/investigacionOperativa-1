{
 "cells": [
  {
   "cell_type": "code",
   "execution_count": null,
   "metadata": {},
   "outputs": [],
   "source": [
    "#Investigacion Operativa-Facultad Politecnica.UNA \n",
    "#Carrera: LCik\n",
    "#Prof. Norma B. Silguero B."
   ]
  },
  {
   "cell_type": "code",
   "execution_count": null,
   "metadata": {},
   "outputs": [],
   "source": [
    "# DUALIDAD"
   ]
  },
  {
   "cell_type": "markdown",
   "metadata": {},
   "source": [
    "\n"
   ]
  },
  {
   "cell_type": "markdown",
   "metadata": {},
   "source": []
  },
  {
   "cell_type": "markdown",
   "metadata": {},
   "source": []
  },
  {
   "cell_type": "code",
   "execution_count": 5,
   "metadata": {},
   "outputs": [
    {
     "name": "stdout",
     "output_type": "stream",
     "text": [
      "\u001b[32m\u001b[1m Resolving\u001b[22m\u001b[39m package versions...\n",
      "\u001b[32m\u001b[1m  Updating\u001b[22m\u001b[39m `~/.julia/environments/v1.1/Project.toml`\n",
      "\u001b[90m [no changes]\u001b[39m\n",
      "\u001b[32m\u001b[1m  Updating\u001b[22m\u001b[39m `~/.julia/environments/v1.1/Manifest.toml`\n",
      "\u001b[90m [no changes]\u001b[39m\n",
      "\u001b[32m\u001b[1m Resolving\u001b[22m\u001b[39m package versions...\n",
      "\u001b[32m\u001b[1m  Updating\u001b[22m\u001b[39m `~/.julia/environments/v1.1/Project.toml`\n",
      "\u001b[90m [no changes]\u001b[39m\n",
      "\u001b[32m\u001b[1m  Updating\u001b[22m\u001b[39m `~/.julia/environments/v1.1/Manifest.toml`\n",
      "\u001b[90m [no changes]\u001b[39m\n",
      "\u001b[32m\u001b[1m Resolving\u001b[22m\u001b[39m package versions...\n",
      "\u001b[32m\u001b[1m  Updating\u001b[22m\u001b[39m `~/.julia/environments/v1.1/Project.toml`\n",
      "\u001b[90m [no changes]\u001b[39m\n",
      "\u001b[32m\u001b[1m  Updating\u001b[22m\u001b[39m `~/.julia/environments/v1.1/Manifest.toml`\n",
      "\u001b[90m [no changes]\u001b[39m\n",
      "\u001b[32m\u001b[1m Resolving\u001b[22m\u001b[39m package versions...\n",
      "\u001b[32m\u001b[1m  Updating\u001b[22m\u001b[39m `~/.julia/environments/v1.1/Project.toml`\n",
      "\u001b[90m [no changes]\u001b[39m\n",
      "\u001b[32m\u001b[1m  Updating\u001b[22m\u001b[39m `~/.julia/environments/v1.1/Manifest.toml`\n",
      "\u001b[90m [no changes]\u001b[39m\n",
      "\u001b[32m\u001b[1m Resolving\u001b[22m\u001b[39m package versions...\n",
      "\u001b[32m\u001b[1m  Updating\u001b[22m\u001b[39m `~/.julia/environments/v1.1/Project.toml`\n",
      "\u001b[90m [no changes]\u001b[39m\n",
      "\u001b[32m\u001b[1m  Updating\u001b[22m\u001b[39m `~/.julia/environments/v1.1/Manifest.toml`\n",
      "\u001b[90m [no changes]\u001b[39m\n",
      "\u001b[32m\u001b[1m Resolving\u001b[22m\u001b[39m package versions...\n",
      "\u001b[32m\u001b[1m  Updating\u001b[22m\u001b[39m `~/.julia/environments/v1.1/Project.toml`\n",
      "\u001b[90m [no changes]\u001b[39m\n",
      "\u001b[32m\u001b[1m  Updating\u001b[22m\u001b[39m `~/.julia/environments/v1.1/Manifest.toml`\n",
      "\u001b[90m [no changes]\u001b[39m\n",
      "Min x11 + 2 x13 + 3 x22 + x23 + x31 + 2 x32\n",
      "Subject to\n",
      " x11 ≥ 0.0\n",
      " x12 ≥ 0.0\n",
      " x13 ≥ 0.0\n",
      " x21 ≥ 0.0\n",
      " x22 ≥ 0.0\n",
      " x23 ≥ 0.0\n",
      " x31 ≥ 0.0\n",
      " x32 ≥ 0.0\n",
      " x33 ≥ 0.0\n",
      " x11 + 2 x13 ≥ 1.0\n",
      " 3 x22 + x23 ≥ 2.0\n",
      " x31 + 2 x32 ≥ 1.5\n",
      " x11 + x21 + x31 ≥ 4.0\n",
      " x12 + x22 + x32 ≥ 5.0\n",
      " x13 + x23 + x33 ≤ 15.0\n",
      "Valor func objetivo_min=4.5\n",
      "x11 =1.0\n",
      "x12    =4.333333333333333\n",
      "x13    =0.0\n",
      "x21 =1.5\n",
      "x22    =0.6666666666666666\n",
      "x23    =0.0\n",
      "x31 =1.5\n",
      "x32    =0.0\n",
      "x33    =0.0\n",
      "Coin0506I Presolve 4 (-2) rows, 6 (-3) columns and 8 (-7) elements\n",
      "Clp0006I 0  Obj 0 Primal inf 3.0337525 (3)\n",
      "Clp0006I 3  Obj 4.5\n",
      "Clp0000I Optimal - objective value 4.5\n",
      "Coin0511I After Postsolve, objective 4.5, infeasibilities - dual 0 (0), primal 0 (0)\n",
      "Clp0032I Optimal objective 4.5 - 3 iterations time 0.002, Presolve 0.00\n"
     ]
    }
   ],
   "source": [
    "import Pkg\n",
    "Pkg.add(\"JuMP\")\n",
    "Pkg.add(\"CSV\")\n",
    "Pkg.add(\"Clp\")\n",
    "Pkg.add(\"GLPK\")\n",
    "Pkg.add(\"DataFrames\")\n",
    "Pkg.add(\"LinearAlgebra\")\n",
    "\n",
    "using JuMP, CSV, Clp, GLPK, DataFrames, LinearAlgebra\n",
    "#Ejercicio 1 de problemas de transporte\n",
    "m = Model(with_optimizer(Clp.Optimizer))\n",
    "#Variables: xij= centavos por galon de combustible a ser distribuibles i= 1, 2, 3 que serán distribuidos mensualmente \n",
    "# a los aeropuertos j= 1, 2, 3\n",
    "@variables(m, begin #Definimos las variables\n",
    "        x11>=0 \n",
    "        x12>=0             \n",
    "        x13>=0            \n",
    "        x21>=0             \n",
    "        x22>=0             \n",
    "        x23>=0            \n",
    "        x31>=0             \n",
    "        x32>=0             \n",
    "        x33>=0            \n",
    "end)  \n",
    "# restricciones de Oferta\n",
    "@constraint(m, x11+0*x12+2*x13>=1)        \n",
    "@constraint(m, 0*x21+3*x22+x23>=2)           \n",
    "@constraint(m, x31+2*x32+0*x33>=1.5) \n",
    " \n",
    "# restricciones de Demanda\n",
    "@constraint(m, x11+x21+x31>= 4)\n",
    "@constraint(m, x12+x22+x32>= 5)\n",
    "@constraint(m, x13+x23+x33<= 15)\n",
    "#@constraint(m, x14+x24+x34== 10)\n",
    "\n",
    "@objective(m, Min, x11+0*x12+2*x13+0*x21+3*x22+x23+x31+2*x32+0*x33)\n",
    "print(m)\n",
    "JuMP.optimize!(m)\n",
    "\n",
    "obj_value=JuMP.objective_value(m)\n",
    "x11=JuMP.value(x11)\n",
    "x12=JuMP.value(x12)\n",
    "x13=JuMP.value(x13)\n",
    "#x14=JuMP.value(x14)\n",
    "x21=JuMP.value(x21)\n",
    "x22=JuMP.value(x22)\n",
    "x23=JuMP.value(x23)\n",
    "#x24=JuMP.value(x24)\n",
    "x31=JuMP.value(x31)\n",
    "x32=JuMP.value(x32)\n",
    "x33=JuMP.value(x33)\n",
    "#x34=JuMP.value(x34)\n",
    "\n",
    "println(\"Valor func objetivo_min=\", obj_value)\n",
    "println(\"x11 =\", x11)\n",
    "println(\"x12    =\", x12)\n",
    "println(\"x13    =\", x13)\n",
    "#println(\"x14    =\", x14)\n",
    "\n",
    "println(\"x21 =\", x21)\n",
    "println(\"x22    =\", x22)\n",
    "println(\"x23    =\", x23)\n",
    "#println(\"x24    =\", x24)\n",
    "\n",
    "println(\"x31 =\", x31)\n",
    "println(\"x32    =\", x32)\n",
    "println(\"x33    =\", x33)\n",
    "#println(\"x34    =\", x34)\n"
   ]
  },
  {
   "cell_type": "code",
   "execution_count": 3,
   "metadata": {},
   "outputs": [],
   "source": [
    "#b1)¿Cual es el problema dual asociado? ¿Que situación podría estar optimizando?"
   ]
  },
  {
   "cell_type": "code",
   "execution_count": 5,
   "metadata": {},
   "outputs": [
    {
     "ename": "LoadError",
     "evalue": "syntax: extra token \"W\" after end of expression",
     "output_type": "error",
     "traceback": [
      "syntax: extra token \"W\" after end of expression",
      ""
     ]
    }
   ],
   "source": [
    "#MODELO DUAL\n",
    "Min W = 24y1 +6y2+y3+2y4\n",
    "\n",
    "Sujeto a :  \n",
    "\n",
    "6y1 +y2 - y3    ≥ 5\n",
    "\n",
    "4y1 +2y2+y3+y4 ≥ 4\n",
    "                                     \n",
    "yi ≥ 0  i=1,2,3,4\n",
    "                 "
   ]
  },
  {
   "cell_type": "code",
   "execution_count": 6,
   "metadata": {},
   "outputs": [
    {
     "name": "stdout",
     "output_type": "stream",
     "text": [
      "Min 24 y[1] + 6 y[2] + y[3] + 2 y[4]\n",
      "Subject to\n",
      " y[1] ≥ 0.0\n",
      " y[2] ≥ 0.0\n",
      " y[3] ≥ 0.0\n",
      " y[4] ≥ 0.0\n",
      " 6 y[1] + y[2] - y[3] ≥ 5.0\n",
      " 4 y[1] + 2 y[2] + y[3] + y[4] ≥ 4.0\n",
      "Valor func objetivo, Ganancia=20.999999999999996\n",
      " y[1] = 0.7499999999999998\n",
      " y[2] = 0.5000000000000004\n",
      " y[3] = 0.0\n",
      " y[4] = 0.0\n",
      "\n",
      "Coin0506I Presolve 2 (0) rows, 4 (0) columns and 7 (0) elements\n",
      "Clp0006I 0  Obj 0 Primal inf 1.8333331 (2)\n",
      "Clp0006I 4  Obj 21\n",
      "Clp0000I Optimal - objective value 21\n",
      "Clp0032I Optimal objective 21 - 4 iterations time 0.002\n"
     ]
    }
   ],
   "source": [
    "m2 = Model(with_optimizer(Clp.Optimizer))\n",
    "    @variable(m2, y[1:4] >= 0)\n",
    "\n",
    "    @objective(m2, Min, 24*y[1] + 6*y[2] + 1*y[3] + 2*y[4])\n",
    "    \n",
    "    @constraint(m2, 6*y[1] + y[2] - y[3] >= 5)\n",
    "    @constraint(m2, 4*y[1] + 2*y[2] + y[3] + y[4]>= 4)\n",
    "    \n",
    "\n",
    "    \n",
    "print(m2)\n",
    "JuMP.optimize!(m2)\n",
    "obj_value_m2=JuMP.objective_value(m2)\n",
    "println(\"Valor func objetivo, Ganancia=\", obj_value_m2)\n",
    "\n",
    "for i in 1:4\n",
    "    println(\" y[$(i)] = $(JuMP.value(y[i]))\")\n",
    "end\n",
    "println(\"\")"
   ]
  },
  {
   "cell_type": "code",
   "execution_count": null,
   "metadata": {},
   "outputs": [],
   "source": []
  }
 ],
 "metadata": {
  "kernelspec": {
   "display_name": "Julia 1.1.1",
   "language": "julia",
   "name": "julia-1.1"
  },
  "language_info": {
   "file_extension": ".jl",
   "mimetype": "application/julia",
   "name": "julia",
   "version": "1.1.1"
  }
 },
 "nbformat": 4,
 "nbformat_minor": 2
}
