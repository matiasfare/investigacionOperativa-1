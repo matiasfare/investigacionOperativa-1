{
 "cells": [
  {
   "cell_type": "code",
   "execution_count": null,
   "metadata": {},
   "outputs": [],
   "source": [
    "#Investigacion Operativa-Facultad Politecnica.UNA \n",
    "#Carrera: LCik\n",
    "#Prof. Norma B. Silguero B."
   ]
  },
  {
   "cell_type": "code",
   "execution_count": null,
   "metadata": {},
   "outputs": [],
   "source": [
    "# DUALIDAD"
   ]
  },
  {
   "cell_type": "code",
   "execution_count": 1,
   "metadata": {},
   "outputs": [
    {
     "name": "stderr",
     "output_type": "stream",
     "text": [
      "┌ Info: Recompiling stale cache file /home/jvillagra/.julia/compiled/v1.1/JuMP/DmXqY.ji for JuMP [4076af6c-e467-56ae-b986-b466b2749572]\n",
      "└ @ Base loading.jl:1184\n",
      "┌ Info: Recompiling stale cache file /home/jvillagra/.julia/compiled/v1.1/Clp/UsKiE.ji for Clp [e2554f3b-3117-50c0-817c-e040a3ddf72d]\n",
      "└ @ Base loading.jl:1184\n"
     ]
    },
    {
     "name": "stdout",
     "output_type": "stream",
     "text": [
      "Max 2000 x1 + 1000 x2\n",
      "Subject to\n",
      " x1 ≥ 0.0\n",
      " x2 ≥ 0.0\n",
      " 3 x1 + x2 ≤ 300.0\n",
      " x1 + x2 ≤ 140.0\n",
      " x1 + 3 x2 ≤ 300.0\n",
      "Maxima utilidad total =220000.0\n",
      "Cantidad de arreglos de tipo 1 a producir =79.99999999999999\n",
      "Cantidad de arreglos de tipo 2 a producir =60.000000000000014\n",
      "Coin0506I Presolve 3 (0) rows, 2 (0) columns and 6 (0) elements\n",
      "Clp0006I 0  Obj -0 Dual inf 3000 (2)\n",
      "Clp0006I 2  Obj 220000\n",
      "Clp0000I Optimal - objective value 220000\n",
      "Clp0032I Optimal objective 220000 - 2 iterations time 0.002\n"
     ]
    }
   ],
   "source": [
    "using JuMP, Clp\n",
    "\n",
    "m = Model(with_optimizer(Clp.Optimizer))\n",
    "\n",
    "@variables(m, begin \n",
    "        0 <= x1             # Cantidad de arreglos de tipo 1 que se pueden producir\n",
    "        0 <= x2             # Cantidad de arreglos de tipo 2 que se pueden producir\n",
    "end)  \n",
    "\n",
    "@objective(m, Max, 2000*x1 + 1000*x2)     # maximice la utilidad total\n",
    "\n",
    "@constraint(m, M1, 3*x1 + 1*x2 <= 300)    #Recurso materia prima M1     \n",
    "@constraint(m, M2, 1*x1 + 1*x2 <= 140)     #Recurso materia prima M2      \n",
    "@constraint(m, M3, 1*x1 + 3*x2 <= 300)    #Recurso materia prima M3\n",
    "print(m)\n",
    "\n",
    "JuMP.optimize!(m)\n",
    "\n",
    "obj_value=JuMP.objective_value(m)\n",
    "x1_arreglo1=JuMP.value(x1)\n",
    "x2_arreglo2=JuMP.value(x2)\n",
    "\n",
    "\n",
    "println(\"Maxima utilidad total =\", obj_value)\n",
    "println(\"Cantidad de arreglos de tipo 1 a producir =\", x1_arreglo1)\n",
    "println(\"Cantidad de arreglos de tipo 2 a producir =\", x2_arreglo2)\n"
   ]
  },
  {
   "cell_type": "code",
   "execution_count": 3,
   "metadata": {},
   "outputs": [],
   "source": [
    "#b1)¿Cual es el problema dual asociado? ¿Que situación podría estar optimizando?"
   ]
  },
  {
   "cell_type": "markdown",
   "metadata": {},
   "source": [
    "#MODELO DUAL\n",
    "MinW = 300y1 + 140y2 + 300y3\n",
    "\n",
    "Sujeto a :  \n",
    "\n",
    "3y1 + y2 + y3 ≥ 2000\n",
    "\n",
    "y1 + y2 + 3y3 ≥ 1000\n",
    "                                     \n",
    "yi ≥ 0  i=1,2,3,4\n",
    "                 "
   ]
  },
  {
   "cell_type": "code",
   "execution_count": 4,
   "metadata": {},
   "outputs": [
    {
     "name": "stdout",
     "output_type": "stream",
     "text": [
      "Min 300 y[1] + 140 y[2] + 300 y[3]\n",
      "Subject to\n",
      " y[1] ≥ 0.0\n",
      " y[2] ≥ 0.0\n",
      " y[3] ≥ 0.0\n",
      " 3 y[1] + y[2] + y[3] ≥ 2000.0\n",
      " y[1] + y[2] + 3 y[3] ≥ 1000.0\n",
      "Valor func objetivo, Ganancia=220000.0\n",
      " y[1] = 499.9999999999999\n",
      " y[2] = 500.0000000000002\n",
      " y[3] = 0.0\n",
      "\n",
      "Coin0506I Presolve 2 (0) rows, 3 (0) columns and 6 (0) elements\n",
      "Clp0006I 0  Obj 0 Primal inf 1000 (2)\n",
      "Clp0006I 2  Obj 220000\n",
      "Clp0000I Optimal - objective value 220000\n",
      "Clp0032I Optimal objective 220000 - 2 iterations time 0.002\n"
     ]
    }
   ],
   "source": [
    "m2 = Model(with_optimizer(Clp.Optimizer))\n",
    "    @variable(m2, y[1:3] >= 0)\n",
    "\n",
    "    @objective(m2, Min, 300*y[1] + 140*y[2] + 300*y[3])\n",
    "    \n",
    "    @constraint(m2, 3*y[1] + y[2] + y[3] >= 2000)\n",
    "    @constraint(m2, y[1] + y[2] + 3*y[3] >= 1000)\n",
    "    \n",
    "\n",
    "    \n",
    "print(m2)\n",
    "JuMP.optimize!(m2)\n",
    "obj_value_m2=JuMP.objective_value(m2)\n",
    "println(\"Valor func objetivo, Ganancia=\", obj_value_m2)\n",
    "\n",
    "for i in 1:3\n",
    "    println(\" y[$(i)] = $(JuMP.value(y[i]))\")\n",
    "end\n",
    "println(\"\")"
   ]
  },
  {
   "cell_type": "code",
   "execution_count": null,
   "metadata": {},
   "outputs": [],
   "source": []
  }
 ],
 "metadata": {
  "kernelspec": {
   "display_name": "Julia 1.1.1",
   "language": "julia",
   "name": "julia-1.1"
  },
  "language_info": {
   "file_extension": ".jl",
   "mimetype": "application/julia",
   "name": "julia",
   "version": "1.1.1"
  }
 },
 "nbformat": 4,
 "nbformat_minor": 2
}
