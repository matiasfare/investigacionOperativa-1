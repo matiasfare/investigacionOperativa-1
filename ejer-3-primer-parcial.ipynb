{
 "cells": [
  {
   "cell_type": "code",
   "execution_count": 1,
   "metadata": {},
   "outputs": [
    {
     "name": "stdout",
     "output_type": "stream",
     "text": [
      "Min 7 x[1,1] + 9 x[2,1] + 20 x[3,1] + 8 x[1,2] + 7 x[2,2] + 22 x[3,2] + 10 x[1,3] + 8 x[2,3] + 23 x[3,3]\n",
      "Subject to\n",
      " x[1,1] ≥ 0.0\n",
      " x[1,2] ≥ 0.0\n",
      " x[1,3] ≥ 0.0\n",
      " x[2,1] ≥ 0.0\n",
      " x[2,2] ≥ 0.0\n",
      " x[2,3] ≥ 0.0\n",
      " x[3,1] ≥ 0.0\n",
      " x[3,2] ≥ 0.0\n",
      " x[3,3] ≥ 0.0\n",
      " x[1,1] + x[1,2] + x[1,3] = 50.0\n",
      " x[2,1] + x[2,2] + x[2,3] = 50.0\n",
      " x[3,1] + x[3,2] + x[3,3] = 20.0\n",
      " x[1,1] + x[2,1] + x[3,1] = 40.0\n",
      " x[1,2] + x[2,2] + x[3,2] = 40.0\n",
      " x[1,3] + x[2,3] + x[3,3] = 40.0\n",
      "Valor func objetivo, El costo minimo es :1170.0\n",
      "las asignaciones son\n",
      "x[1,1] = 20.0\n",
      "x[1,2] = 30.0\n",
      "x[1,3] = 0.0\n",
      "x[2,1] = 0.0\n",
      "x[2,2] = 10.0\n",
      "x[2,3] = 40.0\n",
      "x[3,1] = 20.0\n",
      "x[3,2] = 0.0\n",
      "x[3,3] = 0.0\n",
      "Coin0506I Presolve 6 (0) rows, 9 (0) columns and 18 (0) elements\n",
      "Clp0006I 0  Obj 0 Primal inf 240 (6)\n",
      "Clp0006I 5  Obj 1170\n",
      "Clp0000I Optimal - objective value 1170\n",
      "Clp0032I Optimal objective 1170 - 5 iterations time 0.002\n"
     ]
    }
   ],
   "source": [
    "#import Pkg\n",
    "#Pkg.add(\"JuMP\")\n",
    "#Pkg.add(\"CSV\")\n",
    "#Pkg.add(\"Clp\")\n",
    "#Pkg.add(\"GLPK\")\n",
    "#Pkg.add(\"DataFrames\")\n",
    "#Pkg.add(\"LinearAlgebra\")\n",
    "\n",
    "using JuMP, CSV, Clp, GLPK, DataFrames, LinearAlgebra\n",
    "\n",
    "child = Model(with_optimizer(Clp.Optimizer))\n",
    "\n",
    "costo=[ 7 8 10;\n",
    "        9 7 8;\n",
    "        20 22 23]\n",
    "demanda=[40 40 40]\n",
    "oferta=[50;\n",
    "        50;\n",
    "        20]\n",
    "\n",
    "@variable(child,x[1:3,1:3]>=0 )  \n",
    "@objective(child,Min,sum(x.*costo))\n",
    "for i=1:3\n",
    "    @constraint(child,sum(x[i,j] for j=1:3)==oferta[i])\n",
    "end\n",
    "for j=1:3\n",
    "@constraint(child,sum(x[i,j] for i=1:3)==demanda[j])\n",
    "end \n",
    "print(child)\n",
    "JuMP.optimize!(child)\n",
    "obj_value=JuMP.objective_value(child)\n",
    "\n",
    "println(\"Valor func objetivo, El costo minimo es :\", obj_value)\n",
    "\n",
    "println(\"las asignaciones son\")\n",
    "for i in 1:3\n",
    "    for j=1:3\n",
    "        println( \"x[\",i,\",\",j, \"] = $(JuMP.value(x[i,j] ))\")  \n",
    "    end\n",
    "end"
   ]
  },
  {
   "cell_type": "code",
   "execution_count": null,
   "metadata": {},
   "outputs": [],
   "source": []
  }
 ],
 "metadata": {
  "kernelspec": {
   "display_name": "Julia 1.1.1",
   "language": "julia",
   "name": "julia-1.1"
  },
  "language_info": {
   "file_extension": ".jl",
   "mimetype": "application/julia",
   "name": "julia",
   "version": "1.1.1"
  }
 },
 "nbformat": 4,
 "nbformat_minor": 2
}
