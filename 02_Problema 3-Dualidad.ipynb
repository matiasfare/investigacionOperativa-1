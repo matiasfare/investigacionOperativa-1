{
 "cells": [
  {
   "cell_type": "code",
   "execution_count": null,
   "metadata": {},
   "outputs": [],
   "source": [
    "#Investigacion Operativa-Facultad Politecnica.UNA \n",
    "#Carrera: LCik\n",
    "#Prof. Norma B. Silguero B."
   ]
  },
  {
   "cell_type": "code",
   "execution_count": null,
   "metadata": {},
   "outputs": [],
   "source": [
    "# DUALIDAD"
   ]
  },
  {
   "cell_type": "code",
   "execution_count": 4,
   "metadata": {},
   "outputs": [
    {
     "name": "stdout",
     "output_type": "stream",
     "text": [
      "Max 3 x1 + 2 x2 + 5 x3\n",
      "Subject to\n",
      " x1 ≥ 0.0\n",
      " x2 ≥ 0.0\n",
      " x3 ≥ 0.0\n",
      " x1 + 2 x2 + x3 ≤ 430.0\n",
      " 3 x1 + 2 x3 ≤ 460.0\n",
      " x1 + 4 x2 ≤ 420.0\n",
      "Maxima utilidad total =1350.0000000000002\n",
      "Cantidad de trenes a producir =0.0\n",
      "Cantidad de camiones a producir =99.99999999999999\n",
      "Cantidad de autos a producir =230.00000000000003\n",
      "Coin0506I Presolve 3 (0) rows, 3 (0) columns and 7 (0) elements\n",
      "Clp0006I 0  Obj -0 Dual inf 10.303447 (3)\n",
      "Clp0006I 2  Obj 1350\n",
      "Clp0000I Optimal - objective value 1350\n",
      "Clp0032I Optimal objective 1350 - 2 iterations time 0.002\n"
     ]
    }
   ],
   "source": [
    "using JuMP, Clp\n",
    "\n",
    "m = Model(with_optimizer(Clp.Optimizer))\n",
    "\n",
    "@variables(m, begin \n",
    "        0 <= x1            \n",
    "        0 <= x2             \n",
    "        0 <= x3\n",
    "end)  \n",
    "\n",
    "@objective(m, Max, 3*x1 + 2*x2 + 5*x3)     # maximice la utilidad total\n",
    "\n",
    "@constraint(m, op1, x1 + 2*x2 + x3 <= 430)    #Limite de tiempo para operacion 1     \n",
    "@constraint(m, op2, 3*x1 + 2*x3 <= 460)     #Limite de tiempo para operacion 2    \n",
    "@constraint(m, op3, x1 + 4*x2 <= 420)    #Limite de tiempo para operacion 3\n",
    "print(m)\n",
    "\n",
    "JuMP.optimize!(m)\n",
    "\n",
    "obj_value=JuMP.objective_value(m)\n",
    "x1_val=JuMP.value(x1)\n",
    "x2_val=JuMP.value(x2)\n",
    "x3_val=JuMP.value(x3)\n",
    "\n",
    "println(\"Maxima utilidad total =\", obj_value)\n",
    "println(\"Cantidad de trenes a producir =\", x1_val)\n",
    "println(\"Cantidad de camiones a producir =\", x2_val)\n",
    "println(\"Cantidad de autos a producir =\", x3_val)\n"
   ]
  },
  {
   "cell_type": "code",
   "execution_count": 3,
   "metadata": {},
   "outputs": [],
   "source": [
    "#b1)¿Cual es el problema dual asociado? ¿Que situación podría estar optimizando?"
   ]
  },
  {
   "cell_type": "markdown",
   "metadata": {},
   "source": [
    "#MODELO DUAL\n",
    "MinW = 300y1 + 140y2 + 300y3\n",
    "\n",
    "Sujeto a :  \n",
    "\n",
    "3y1 + y2 + y3 ≥ 2000\n",
    "\n",
    "y1 + y2 + 3y3 ≥ 1000\n",
    "                                     \n",
    "yi ≥ 0  i=1,2,3,4\n",
    "                 "
   ]
  },
  {
   "cell_type": "code",
   "execution_count": 6,
   "metadata": {},
   "outputs": [
    {
     "name": "stdout",
     "output_type": "stream",
     "text": [
      "Min 430 y[1] + 460 y[2] + 420 y[3]\n",
      "Subject to\n",
      " y[1] ≥ 0.0\n",
      " y[2] ≥ 0.0\n",
      " y[3] ≥ 0.0\n",
      " y[1] + 3 y[2] + y[3] ≥ 3.0\n",
      " 2 y[1] + 4 y[3] ≥ 2.0\n",
      " y[1] + 2 y[2] ≥ 5.0\n",
      "Valor func objetivo=1350.0\n",
      " y[1] = 1.0\n",
      " y[2] = 2.0\n",
      " y[3] = 0.0\n",
      "\n",
      "Coin0506I Presolve 3 (0) rows, 3 (0) columns and 7 (0) elements\n",
      "Clp0006I 0  Obj 0 Primal inf 3.9999997 (3)\n",
      "Clp0006I 2  Obj 1350\n",
      "Clp0000I Optimal - objective value 1350\n",
      "Clp0032I Optimal objective 1350 - 2 iterations time 0.002\n"
     ]
    }
   ],
   "source": [
    "m2 = Model(with_optimizer(Clp.Optimizer))\n",
    "    @variable(m2, y[1:3] >= 0)\n",
    "\n",
    "    @objective(m2, Min, 430*y[1] + 460*y[2] + 420*y[3])\n",
    "    \n",
    "    @constraint(m2, y[1] + 3*y[2] + y[3] >= 3)\n",
    "    @constraint(m2, 2y[1] + 4*y[3] >= 2)\n",
    "    @constraint(m2, y[1] + 2*y[2] >= 5)\n",
    "\n",
    "    \n",
    "print(m2)\n",
    "JuMP.optimize!(m2)\n",
    "obj_value_m2=JuMP.objective_value(m2)\n",
    "println(\"Valor func objetivo=\", obj_value_m2)\n",
    "\n",
    "for i in 1:3\n",
    "    println(\" y[$(i)] = $(JuMP.value(y[i]))\")\n",
    "end\n",
    "println(\"\")"
   ]
  },
  {
   "cell_type": "code",
   "execution_count": null,
   "metadata": {},
   "outputs": [],
   "source": []
  }
 ],
 "metadata": {
  "kernelspec": {
   "display_name": "Julia 1.1.1",
   "language": "julia",
   "name": "julia-1.1"
  },
  "language_info": {
   "file_extension": ".jl",
   "mimetype": "application/julia",
   "name": "julia",
   "version": "1.1.1"
  }
 },
 "nbformat": 4,
 "nbformat_minor": 2
}
