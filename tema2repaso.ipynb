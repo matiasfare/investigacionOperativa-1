{
 "cells": [
  {
   "cell_type": "code",
   "execution_count": 1,
   "metadata": {},
   "outputs": [
    {
     "name": "stdout",
     "output_type": "stream",
     "text": [
      "Max 12 x1 + 5 x2 + 15 x3 + 10 x4\n",
      "Subject to\n",
      " x1 ≥ 0.0\n",
      " x2 ≥ 0.0\n",
      " x3 ≥ 0.0\n",
      " x4 ≥ 0.0\n",
      " x1 ≥ 40.0\n",
      " x2 ≥ 130.0\n",
      " x3 ≥ 30.0\n",
      " x4 ≥ 10.0\n",
      " 5 x1 + x2 + 9 x3 + 12 x4 ≤ 1500.0\n",
      " 2 x1 + 3 x2 + 4 x3 + x4 ≤ 1000.0\n",
      " 3 x1 + 2 x2 + 5 x3 + 10 x4 ≤ 800.0\n",
      "Valor func objetivo_max=2360.0\n",
      "x1 =96.66666666666666\n",
      "x2    =130.0\n",
      "x3    =30.0\n",
      "x4    =10.0\n",
      "Coin0506I Presolve 3 (-4) rows, 4 (0) columns and 12 (-4) elements\n",
      "Clp0006I 0  Obj 1680 Dual inf 55.666663 (4)\n",
      "Clp0006I 1  Obj 2360\n",
      "Clp0000I Optimal - objective value 2360\n",
      "Coin0511I After Postsolve, objective 2360, infeasibilities - dual 0 (0), primal 0 (0)\n",
      "Clp0032I Optimal objective 2360 - 1 iterations time 0.002, Presolve 0.00\n"
     ]
    }
   ],
   "source": [
    "using JuMP, CSV, Clp, GLPK, DataFrames, LinearAlgebra\n",
    "\n",
    "m = Model(with_optimizer(Clp.Optimizer))\n",
    "#Variables: xij= cantidad de muebles del tipo i=1, 2, 3, 4\n",
    "@variables(m, begin #Definimos las variables\n",
    "        x1>=0 \n",
    "        x2>=0             \n",
    "        x3>=0            \n",
    "        x4>=0  \n",
    "         \n",
    "end)  \n",
    "# restricciones de Oferta\n",
    "@constraint(m, 5*x1+1*x2+9*x3+12*x4<=1500)        \n",
    "@constraint(m, 2*x1+3*x2+4*x3+1*x4<=1000)           \n",
    "@constraint(m, 3*x1+2*x2+5*x3+10*x4<=800) \n",
    " \n",
    "# restricciones de Demanda\n",
    "@constraint(m, x1>=40)\n",
    "@constraint(m, x2>=130)\n",
    "@constraint(m, x3>=30)\n",
    "@constraint(m, x4>=10)\n",
    "\n",
    "@objective(m, Max, 12*x1+5*x2+15*x3+10*x4)\n",
    "print(m)\n",
    "JuMP.optimize!(m)\n",
    "\n",
    "obj_value=JuMP.objective_value(m)\n",
    "x1=JuMP.value(x1)\n",
    "x2=JuMP.value(x2)\n",
    "x3=JuMP.value(x3)\n",
    "x4=JuMP.value(x4)\n",
    "\n",
    "println(\"Valor func objetivo_max=\", obj_value)\n",
    "println(\"x1 =\", x1)\n",
    "println(\"x2    =\", x2)\n",
    "println(\"x3    =\", x3)\n",
    "println(\"x4    =\", x4)"
   ]
  },
  {
   "cell_type": "code",
   "execution_count": null,
   "metadata": {},
   "outputs": [],
   "source": []
  }
 ],
 "metadata": {
  "kernelspec": {
   "display_name": "Julia 1.1.1",
   "language": "julia",
   "name": "julia-1.1"
  },
  "language_info": {
   "file_extension": ".jl",
   "mimetype": "application/julia",
   "name": "julia",
   "version": "1.1.1"
  }
 },
 "nbformat": 4,
 "nbformat_minor": 2
}
