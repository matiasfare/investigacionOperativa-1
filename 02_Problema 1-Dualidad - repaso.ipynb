{
 "cells": [
  {
   "cell_type": "code",
   "execution_count": null,
   "metadata": {},
   "outputs": [],
   "source": [
    "#Investigacion Operativa-Facultad Politecnica.UNA \n",
    "#Carrera: LCik\n",
    "#Prof. Norma B. Silguero B."
   ]
  },
  {
   "cell_type": "code",
   "execution_count": null,
   "metadata": {},
   "outputs": [],
   "source": [
    "# DUALIDAD"
   ]
  },
  {
   "cell_type": "code",
   "execution_count": 5,
   "metadata": {},
   "outputs": [
    {
     "name": "stdout",
     "output_type": "stream",
     "text": [
      "Min x1 + 2 x2 + 1.5 x3\n",
      "Subject to\n",
      " x1 ≥ 0.0\n",
      " x2 ≥ 0.0\n",
      " x3 ≥ 0.0\n",
      " x1 + x3 ≥ 4.0\n",
      " 3 x2 + 2 x3 ≥ 5.0\n",
      " 2 x1 + x2 ≤ 15.0\n",
      "Maxima utilidad total =5.25\n",
      "Cantidad de alfalfa a utilizar =1.5\n",
      "Cantidad de avena a utilizar =0.0\n",
      "Cantidad de ensilaje a utilizar =2.5\n",
      "Coin0506I Presolve 3 (0) rows, 3 (0) columns and 6 (0) elements\n",
      "Clp0006I 0  Obj 0 Primal inf 5.6666665 (2)\n",
      "Clp0006I 2  Obj 5.25\n",
      "Clp0000I Optimal - objective value 5.25\n",
      "Clp0032I Optimal objective 5.25 - 2 iterations time 0.002\n"
     ]
    }
   ],
   "source": [
    "using JuMP, Clp\n",
    "\n",
    "m = Model(with_optimizer(Clp.Optimizer))\n",
    "\n",
    "@variables(m, begin \n",
    "        0 <= x1             # Cantidad de arreglos de tipo 1 que se pueden producir\n",
    "        0 <= x2             # Cantidad de arreglos de tipo 2 que se pueden producir\n",
    "        0 <= x3\n",
    "end)  \n",
    "\n",
    "@objective(m, Min, x1 + 2*x2 + 1.5*x3)     # maximice la utilidad total\n",
    "\n",
    "@constraint(m, M1, x1 + x3 >= 4)    #Recurso materia prima M1     \n",
    "@constraint(m, M2, 3*x2 + 2*x3 >= 5)     #Recurso materia prima M2      \n",
    "@constraint(m, M3, 2*x1 + x2 <= 15)    #Recurso materia prima M3\n",
    "print(m)\n",
    "\n",
    "JuMP.optimize!(m)\n",
    "\n",
    "obj_value=JuMP.objective_value(m)\n",
    "x1_val=JuMP.value(x1)\n",
    "x2_val=JuMP.value(x2)\n",
    "x3_val=JuMP.value(x3)\n",
    "\n",
    "\n",
    "println(\"Maxima utilidad total =\", obj_value)\n",
    "println(\"Cantidad de alfalfa a utilizar =\", x1_val)\n",
    "println(\"Cantidad de avena a utilizar =\", x2_val)\n",
    "println(\"Cantidad de ensilaje a utilizar =\", x3_val)\n"
   ]
  },
  {
   "cell_type": "code",
   "execution_count": 3,
   "metadata": {},
   "outputs": [],
   "source": [
    "#b1)¿Cual es el problema dual asociado? ¿Que situación podría estar optimizando?"
   ]
  },
  {
   "cell_type": "markdown",
   "metadata": {},
   "source": [
    "#MODELO DUAL\n",
    "MinW = 300y1 + 140y2 + 300y3\n",
    "\n",
    "Sujeto a :  \n",
    "\n",
    "3y1 + y2 + y3 ≥ 2000\n",
    "\n",
    "y1 + y2 + 3y3 ≥ 1000\n",
    "                                     \n",
    "yi ≥ 0  i=1,2,3,4\n",
    "                 "
   ]
  },
  {
   "cell_type": "code",
   "execution_count": 7,
   "metadata": {},
   "outputs": [
    {
     "name": "stdout",
     "output_type": "stream",
     "text": [
      "Min -4 y[1] - 5 y[2] + 15 y[3]\n",
      "Subject to\n",
      " y[1] ≥ 0.0\n",
      " y[2] ≥ 0.0\n",
      " y[3] ≥ 0.0\n",
      " -y[1] + 2 y[3] ≥ -1.0\n",
      " -3 y[2] + y[3] ≥ -2.0\n",
      " -y[1] - 2 y[2] ≥ -1.5\n",
      "Valor func objetivo=-5.25\n",
      " y[1] = 1.0\n",
      " y[2] = 0.25\n",
      " y[3] = 0.0\n",
      "\n",
      "Coin0506I Presolve 3 (0) rows, 3 (0) columns and 6 (0) elements\n",
      "Clp0006I 0  Obj 0 Dual inf 13 (2)\n",
      "Clp0006I 2  Obj -5.25\n",
      "Clp0000I Optimal - objective value -5.25\n",
      "Clp0032I Optimal objective -5.25 - 2 iterations time 0.002\n"
     ]
    }
   ],
   "source": [
    "m2 = Model(with_optimizer(Clp.Optimizer))\n",
    "    @variable(m2, y[1:3] >= 0)\n",
    "\n",
    "    @objective(m2, Min, -4*y[1] - 5*y[2] + 15*y[3])\n",
    "    \n",
    "    @constraint(m2, -1*y[1] + 2*y[3] >= -1)\n",
    "    @constraint(m2, -3*y[2] + y[3] >= -2)\n",
    "    @constraint(m2, -1*y[1] - 2*y[2] >= -1.5)\n",
    "    \n",
    "\n",
    "    \n",
    "print(m2)\n",
    "JuMP.optimize!(m2)\n",
    "obj_value_m2=JuMP.objective_value(m2)\n",
    "println(\"Valor func objetivo=\", obj_value_m2)\n",
    "\n",
    "for i in 1:3\n",
    "    println(\" y[$(i)] = $(JuMP.value(y[i]))\")\n",
    "end\n",
    "println(\"\")"
   ]
  },
  {
   "cell_type": "code",
   "execution_count": null,
   "metadata": {},
   "outputs": [],
   "source": []
  }
 ],
 "metadata": {
  "kernelspec": {
   "display_name": "Julia 1.1.1",
   "language": "julia",
   "name": "julia-1.1"
  },
  "language_info": {
   "file_extension": ".jl",
   "mimetype": "application/julia",
   "name": "julia",
   "version": "1.1.1"
  }
 },
 "nbformat": 4,
 "nbformat_minor": 2
}
