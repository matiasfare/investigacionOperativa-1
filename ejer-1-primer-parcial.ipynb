{
 "cells": [
  {
   "cell_type": "code",
   "execution_count": null,
   "metadata": {},
   "outputs": [],
   "source": []
  },
  {
   "cell_type": "code",
   "execution_count": 2,
   "metadata": {},
   "outputs": [
    {
     "name": "stdout",
     "output_type": "stream",
     "text": [
      "Max 20 x1 + 15 x2 + 15 x3\n",
      "Subject to\n",
      " x1 ≥ 0.0\n",
      " x2 ≥ 0.0\n",
      " x3 ≥ 0.0\n",
      " x3 ≥ 20.0\n",
      " x1 + 0.5 x2 + 0.75 x3 ≤ 100.0\n",
      "Valor func objetivo_max=2850.0\n",
      "x1 = 0.0\n",
      "x2 = 170.0\n",
      "x3 = 20.0\n",
      "Coin0506I Presolve 0 (-2) rows, 0 (-3) columns and 0 (-4) elements\n",
      "Clp3002W Empty problem - 0 rows, 0 columns and 0 elements\n",
      "Clp0000I Optimal - objective value 2850\n",
      "Coin0511I After Postsolve, objective 2850, infeasibilities - dual 0 (0), primal 0 (0)\n",
      "Clp0032I Optimal objective 2850 - 0 iterations time 0.002, Presolve 0.00\n"
     ]
    }
   ],
   "source": [
    "#import Pkg\n",
    "#Pkg.add(\"JuMP\")\n",
    "#Pkg.add(\"CSV\")\n",
    "#Pkg.add(\"Clp\")\n",
    "#Pkg.add(\"GLPK\")\n",
    "#Pkg.add(\"DataFrames\")\n",
    "#Pkg.add(\"LinearAlgebra\")\n",
    "#####Descomentar lineas anteriores si fuere necesario\n",
    "using JuMP, CSV, Clp, GLPK, DataFrames, LinearAlgebra\n",
    "\n",
    "m = Model(with_optimizer(Clp.Optimizer))\n",
    "#Variables: xij= cantidad de botellas de vino del tipo i=1, 2, 3\n",
    "@variables(m, begin #Definimos las variables\n",
    "        x1>=0 \n",
    "        x2>=0             \n",
    "        x3>=0\n",
    "end)  \n",
    "# restricciones\n",
    "@constraint(m, 1*x1+0.5*x2+0.75*x3<=100)\n",
    " \n",
    "# restricciones de Demanda\n",
    "@constraint(m, x3>=20)\n",
    "\n",
    "@objective(m, Max, 20*x1+15*x2+15*x3)\n",
    "print(m)\n",
    "JuMP.optimize!(m)\n",
    "\n",
    "obj_value=JuMP.objective_value(m)\n",
    "x1=JuMP.value(x1)\n",
    "x2=JuMP.value(x2)\n",
    "x3=JuMP.value(x3)\n",
    "\n",
    "println(\"Valor func objetivo_max=\", obj_value)\n",
    "println(\"x1 = \", x1)\n",
    "println(\"x2 = \", x2)\n",
    "println(\"x3 = \", x3)"
   ]
  },
  {
   "cell_type": "code",
   "execution_count": null,
   "metadata": {},
   "outputs": [],
   "source": []
  }
 ],
 "metadata": {
  "kernelspec": {
   "display_name": "Julia 1.1.1",
   "language": "julia",
   "name": "julia-1.1"
  },
  "language_info": {
   "file_extension": ".jl",
   "mimetype": "application/julia",
   "name": "julia",
   "version": "1.1.1"
  }
 },
 "nbformat": 4,
 "nbformat_minor": 2
}
